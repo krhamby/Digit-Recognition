{
 "cells": [
  {
   "cell_type": "code",
   "execution_count": 8,
   "metadata": {},
   "outputs": [],
   "source": [
    "import pandas as pd\n",
    "import plotly.express as px\n",
    "import random\n",
    "import numpy as np"
   ]
  },
  {
   "cell_type": "code",
   "execution_count": 9,
   "metadata": {},
   "outputs": [],
   "source": [
    "digits = pd.read_csv('train.csv')\n",
    "test_digits = pd.read_csv('test.csv')"
   ]
  },
  {
   "cell_type": "code",
   "execution_count": 4,
   "metadata": {},
   "outputs": [],
   "source": [
    "#clusters = pd.DataFrame({\"c_0\": [], \"c_1\": [], \"c_2\": [], \"c_3\": [], \"c_4\": [],\"c_5\": [], \"c_6\": [], \"c_7\": [], \"c_8\": [], \"c_9\": [], \"c_10\": []})"
   ]
  },
  {
   "cell_type": "code",
   "execution_count": 10,
   "metadata": {},
   "outputs": [],
   "source": [
    "clusters = pd.DataFrame()\n",
    "for i in range(0, 10):\n",
    "    clusters = pd.concat([clusters, digits[digits['label'] == i].sample(1)])\n",
    "clusters.index = range(0, 10)\n",
    "    \n",
    "clusters.drop(columns=['label'], inplace=True)\n",
    "\n",
    "for i in range(0, 20):\n",
    "    for row in digits.iterrows():\n",
    "        min_dist = float('inf')\n",
    "        min_index = 0\n",
    "        for j in range(0, 10):\n",
    "            dist = np.linalg.norm(row[1][1:785].to_numpy() - clusters.iloc[j][:784].to_numpy())\n",
    "            if dist < min_dist:\n",
    "                digits.at[row[0], 'cluster'] = j\n",
    "                min_dist = dist\n",
    "                min_index = j\n",
    "        # clusters.iloc[min_index][:784] = clusters.iloc[min_index][:784] + row[1][1:785]\n",
    "        \n",
    "    pixel_sum = 0.0\n",
    "    num_rows = 0.0\n",
    "    for j in range(0, 10):\n",
    "        for row in digits.iterrows():\n",
    "            if row[1]['cluster'] == j:\n",
    "                pixel_sum += row[1][1:785]\n",
    "                num_rows += 1.0\n",
    "        clusters.iloc[j][:784] = pixel_sum / num_rows"
   ]
  },
  {
   "cell_type": "code",
   "execution_count": 15,
   "metadata": {},
   "outputs": [
    {
     "name": "stdout",
     "output_type": "stream",
     "text": [
      "       label  pixel0  pixel1  pixel2  pixel3  pixel4  pixel5  pixel6  pixel7  \\\n",
      "0          1       0       0       0       0       0       0       0       0   \n",
      "1          0       0       0       0       0       0       0       0       0   \n",
      "2          1       0       0       0       0       0       0       0       0   \n",
      "3          4       0       0       0       0       0       0       0       0   \n",
      "4          0       0       0       0       0       0       0       0       0   \n",
      "...      ...     ...     ...     ...     ...     ...     ...     ...     ...   \n",
      "41995      0       0       0       0       0       0       0       0       0   \n",
      "41996      1       0       0       0       0       0       0       0       0   \n",
      "41997      7       0       0       0       0       0       0       0       0   \n",
      "41998      6       0       0       0       0       0       0       0       0   \n",
      "41999      9       0       0       0       0       0       0       0       0   \n",
      "\n",
      "       pixel8  ...  pixel776  pixel777  pixel778  pixel779  pixel780  \\\n",
      "0           0  ...         0         0         0         0         0   \n",
      "1           0  ...         0         0         0         0         0   \n",
      "2           0  ...         0         0         0         0         0   \n",
      "3           0  ...         0         0         0         0         0   \n",
      "4           0  ...         0         0         0         0         0   \n",
      "...       ...  ...       ...       ...       ...       ...       ...   \n",
      "41995       0  ...         0         0         0         0         0   \n",
      "41996       0  ...         0         0         0         0         0   \n",
      "41997       0  ...         0         0         0         0         0   \n",
      "41998       0  ...         0         0         0         0         0   \n",
      "41999       0  ...         0         0         0         0         0   \n",
      "\n",
      "       pixel781  pixel782  pixel783  cluster  sum diff  \n",
      "0             0         0         0      1.0       NaN  \n",
      "1             0         0         0      2.0       NaN  \n",
      "2             0         0         0      9.0       NaN  \n",
      "3             0         0         0      4.0       NaN  \n",
      "4             0         0         0      0.0       NaN  \n",
      "...         ...       ...       ...      ...       ...  \n",
      "41995         0         0         0      0.0       NaN  \n",
      "41996         0         0         0      9.0       NaN  \n",
      "41997         0         0         0      7.0       NaN  \n",
      "41998         0         0         0      6.0       NaN  \n",
      "41999         0         0         0      4.0       NaN  \n",
      "\n",
      "[42000 rows x 787 columns]\n"
     ]
    }
   ],
   "source": [
    "digits[\"sum diff\"] = np.nan\n",
    "temp = digits.drop(columns=[\"label\",\"cluster\",\"sum diff\"])\n",
    "\n",
    "#digits[\"sum diff\"] = "
   ]
  },
  {
   "cell_type": "code",
   "execution_count": 26,
   "metadata": {},
   "outputs": [],
   "source": [
    "i = 1"
   ]
  },
  {
   "cell_type": "code",
   "execution_count": null,
   "metadata": {},
   "outputs": [],
   "source": []
  }
 ],
 "metadata": {
  "kernelspec": {
   "display_name": "Python 3 (ipykernel)",
   "language": "python",
   "name": "python3"
  },
  "language_info": {
   "codemirror_mode": {
    "name": "ipython",
    "version": 3
   },
   "file_extension": ".py",
   "mimetype": "text/x-python",
   "name": "python",
   "nbconvert_exporter": "python",
   "pygments_lexer": "ipython3",
   "version": "3.9.16"
  }
 },
 "nbformat": 4,
 "nbformat_minor": 2
}
