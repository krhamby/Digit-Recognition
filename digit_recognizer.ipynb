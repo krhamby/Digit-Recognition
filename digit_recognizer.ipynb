{
 "cells": [
  {
   "cell_type": "code",
   "execution_count": 1,
   "metadata": {},
   "outputs": [],
   "source": [
    "import pandas as pd"
   ]
  },
  {
   "attachments": {},
   "cell_type": "markdown",
   "metadata": {},
   "source": [
    "# About the Data\n",
    "\n",
    "Stored as pixels 0 through 783 (28x28 image) in a CSV file where each row is a separate image.\\\n",
    "The first column in each row is the label (0-9) and the rest are the pixels (0-255 where 0 is white and 255 is black).\n",
    "\n",
    "Each image takes the following format:\n",
    "\n",
    "000 001 002 003 ... 026 027\\\n",
    "028 029 030 031 ... 054 055\\\n",
    "056 057 058 059 ... 082 083\\\n",
    "... ... ... ... ... ... ...\\\n",
    "728 729 730 731 ... 754 755\\\n",
    "756 757 758 759 ... 782 783"
   ]
  },
  {
   "cell_type": "code",
   "execution_count": 4,
   "metadata": {},
   "outputs": [],
   "source": [
    "digits = pd.read_csv('train.csv')"
   ]
  }
 ],
 "metadata": {
  "kernelspec": {
   "display_name": "Python 3",
   "language": "python",
   "name": "python3"
  },
  "language_info": {
   "codemirror_mode": {
    "name": "ipython",
    "version": 3
   },
   "file_extension": ".py",
   "mimetype": "text/x-python",
   "name": "python",
   "nbconvert_exporter": "python",
   "pygments_lexer": "ipython3",
   "version": "3.11.2"
  },
  "orig_nbformat": 4
 },
 "nbformat": 4,
 "nbformat_minor": 2
}
